{
  "cells": [
    {
      "metadata": {
        "_uuid": "8f2839f25d086af736a60e9eeb907d3b93b6e0e5",
        "_cell_guid": "b1076dfc-b9ad-4769-8c92-a6c4dae69d19",
        "trusted": true
      },
      "cell_type": "code",
      "source": "# This Python 3 environment comes with many helpful analytics libraries installed\n# It is defined by the kaggle/python docker image: https://github.com/kaggle/docker-python\n# For example, here's several helpful packages to load in \n\nimport numpy as np # linear algebra\nimport pandas as pd # data processing, CSV file I/O (e.g. pd.read_csv)\nimport keras\nfrom random import randint\nimport matplotlib.pyplot as plt\n\n\n# Input data files are available in the \"../input/\" directory.\n# For example, running this (by clicking run or pressing Shift+Enter) will list the files in the input directory\n\nimport os\nprint(os.listdir(\"../input\"))\n\n# Any results you write to the current directory are saved as output.",
      "execution_count": null,
      "outputs": []
    },
    {
      "metadata": {
        "_cell_guid": "79c7e3d0-c299-4dcb-8224-4455121ee9b0",
        "_uuid": "d629ff2d2480ee46fbb7e2d37f6b5fab8052498a",
        "trusted": true
      },
      "cell_type": "code",
      "source": "train_data=pd.read_csv('../input/train.csv')\ntest_data=pd.read_csv('../input/test.csv')\nsub_sample=pd.read_csv('../input/sample_submission.csv')",
      "execution_count": null,
      "outputs": []
    },
    {
      "metadata": {
        "trusted": true,
        "_uuid": "f3d075fe048f5ab2cdb279d1304317eaefcda815"
      },
      "cell_type": "code",
      "source": "train_data.head(10)",
      "execution_count": null,
      "outputs": []
    },
    {
      "metadata": {
        "trusted": true,
        "_uuid": "9fa046d59615b68767d9e7b76da1020b44502d7f"
      },
      "cell_type": "code",
      "source": "train_data.shape",
      "execution_count": null,
      "outputs": []
    },
    {
      "metadata": {
        "trusted": true,
        "_uuid": "05b3d35861624303941916201aba8b1cbccd3983"
      },
      "cell_type": "code",
      "source": "test_data.head()",
      "execution_count": null,
      "outputs": []
    },
    {
      "metadata": {
        "trusted": true,
        "_uuid": "b5bdfff9c5e3afa3305f008ba30a37ecb2e3b52e"
      },
      "cell_type": "code",
      "source": "test_data.shape",
      "execution_count": null,
      "outputs": []
    },
    {
      "metadata": {
        "trusted": true,
        "_uuid": "785a626242708b449bb2901372f7d52ed8b3a0e5"
      },
      "cell_type": "code",
      "source": "sub_sample.head()",
      "execution_count": null,
      "outputs": []
    },
    {
      "metadata": {
        "trusted": true,
        "_uuid": "16d4fd60ff32aea6816a7b2cf1024ec012177cbf"
      },
      "cell_type": "code",
      "source": "Y_train = train_data[\"label\"]\nY_train = np.array(Y_train, np.uint8)",
      "execution_count": null,
      "outputs": []
    },
    {
      "metadata": {
        "trusted": true,
        "_uuid": "40d24f77293675ea595639bf145f76431f11430e"
      },
      "cell_type": "code",
      "source": "X_train = train_data.drop(labels = [\"label\"],axis = 1) \nX_train = np.array(X_train)\nX_test=np.array(test_data)",
      "execution_count": null,
      "outputs": []
    },
    {
      "metadata": {
        "trusted": true,
        "_uuid": "fb8d00b6af686681c29b322fa33d2ac828736328"
      },
      "cell_type": "code",
      "source": "print(X_train.shape)\nprint(Y_train.shape)\nprint(X_test.shape)\nY_train",
      "execution_count": null,
      "outputs": []
    },
    {
      "metadata": {
        "trusted": true,
        "_uuid": "b704ee91911f7771c20f125ff56c3c6b24a90499"
      },
      "cell_type": "code",
      "source": "# free memory space\ndel train_data",
      "execution_count": null,
      "outputs": []
    },
    {
      "metadata": {
        "_uuid": "b7bf6d236437ec0123a0c83a27fab222f028333c"
      },
      "cell_type": "markdown",
      "source": "## Data Visualization"
    },
    {
      "metadata": {
        "trusted": true,
        "_uuid": "577f4c3f5adccbc5ef5653291660373452596a6e"
      },
      "cell_type": "code",
      "source": "#Convert train datset to (num_images, img_rows, img_cols) format \ntrain_images = X_train.reshape(X_train.shape[0], 28, 28)",
      "execution_count": null,
      "outputs": []
    },
    {
      "metadata": {
        "trusted": true,
        "_uuid": "0680036324d391cfa7d0ea34beabb4df83db23db"
      },
      "cell_type": "code",
      "source": "def plot_images(images, classes):\n    assert len(images) == len(classes) == 9\n    \n    # Create figure with 3x3 sub-plots.\n    fig, axes = plt.subplots(3, 3,figsize=(28,28),sharex=True)\n    fig.subplots_adjust(hspace=0.3, wspace=0.3)\n   \n    for i, ax in enumerate(axes.flat):\n        # Plot image.\n        \n        ax.imshow(images[i], cmap=plt.get_cmap('gray'))    \n        xlabel = \"the number is: {0}\".format(classes[i])\n    \n        # Show the classes as the label on the x-axis.\n        ax.set_xlabel(xlabel)\n        ax.xaxis.label.set_size(28)\n        # Remove ticks from the plot.\n        ax.set_xticks([])\n        ax.set_yticks([])\n    \n    # Ensure the plot is shown correctly with multiple plots\n    # in a single Notebook cell.\n    \n    plt.show()",
      "execution_count": null,
      "outputs": []
    },
    {
      "metadata": {
        "trusted": true,
        "_uuid": "a905254ddb3133a7588036d655b963e5163f3c19"
      },
      "cell_type": "code",
      "source": "random_numbers = [randint(0, len(train_images)) for p in range(0,9)]\nimages_to_show = [train_images[i] for i in random_numbers]\nclasses_to_show = [Y_train[i] for i in random_numbers]\nprint(\"Images to show: {0}\".format(len(images_to_show)))\nprint(\"Classes to show: {0}\".format(len(classes_to_show)))\n#plot the images\nplot_images(images_to_show, classes_to_show)",
      "execution_count": null,
      "outputs": []
    },
    {
      "metadata": {
        "_uuid": "af78b8ce0e4a61c6acf2cb068c1e015e3553b63a"
      },
      "cell_type": "markdown",
      "source": "* ## One Hot encoding \n\n**Encode labels to one hot vectors (ex : 4 ---> [0,0,0,0,1,0,0,0,0,0]   ,    9 ---> [0,0,0,0,0,0,0,0,0,1])**"
    },
    {
      "metadata": {
        "trusted": true,
        "_uuid": "2995c9864245171a13a08b06d5449f67abb05cb3"
      },
      "cell_type": "code",
      "source": "from keras.utils.np_utils import to_categorical\n\nY_train= to_categorical(Y_train)\n",
      "execution_count": null,
      "outputs": []
    },
    {
      "metadata": {
        "trusted": true,
        "_uuid": "8b149f860b79884d172e245002776de3f72bf0d8"
      },
      "cell_type": "code",
      "source": "Y_train",
      "execution_count": null,
      "outputs": []
    },
    {
      "metadata": {
        "trusted": true,
        "_uuid": "a51fa6aa04a08ec7dac5a996d4b47e5e11b7855a"
      },
      "cell_type": "code",
      "source": "Y_train.shape",
      "execution_count": null,
      "outputs": []
    },
    {
      "metadata": {
        "trusted": true,
        "_uuid": "198db43a9b205a244b94da21460002935a19f7ff"
      },
      "cell_type": "code",
      "source": "#Splitting the train_images into the Training set and validation set\nfrom sklearn.model_selection import train_test_split\n\nX_train, X_val, Y_train, Y_val= train_test_split(X_train, Y_train,\n               test_size=0.1, random_state=42,stratify=Y_train)",
      "execution_count": null,
      "outputs": []
    },
    {
      "metadata": {
        "trusted": true,
        "_uuid": "a583d94fc3c575e075afbf8cfe2e8b7f5b21921b"
      },
      "cell_type": "code",
      "source": "print(X_train.shape)\nprint(Y_train.shape)\nprint(X_val.shape)\nprint(Y_val.shape)\nprint(X_test.shape)",
      "execution_count": null,
      "outputs": []
    },
    {
      "metadata": {
        "trusted": true,
        "_uuid": "a5f0afae90a1a0b78652cb51df8370a94fd2319e"
      },
      "cell_type": "code",
      "source": "X_train = X_train.astype('float32')/255\nX_val=X_val.astype('float32')/255\nX_test = X_test.astype('float32')/255",
      "execution_count": null,
      "outputs": []
    },
    {
      "metadata": {
        "_uuid": "0af6ee8fda3af2ce5f13856ee1a74f3cdf9ab9a0"
      },
      "cell_type": "markdown",
      "source": "## Define Model by keras"
    },
    {
      "metadata": {
        "trusted": true,
        "_uuid": "1823c94456549bf50f12fabbe8a03423580617ab"
      },
      "cell_type": "code",
      "source": "from keras.models import Sequential\nfrom keras.layers import Dense ,Dropout\nfrom keras.optimizers import SGD , RMSprop,Adam\nfrom keras import regularizers\nfrom keras.callbacks import LearningRateScheduler,ReduceLROnPlateau,ModelCheckpoint,EarlyStopping",
      "execution_count": null,
      "outputs": []
    },
    {
      "metadata": {
        "trusted": true,
        "_uuid": "fe998a899c098092b55c4d7fdf5878ce05333423"
      },
      "cell_type": "code",
      "source": "def lr_schedule(epoch):\n    lrate = 0.001\n    if epoch > 50:\n        lrate = 0.0003\n    if epoch > 75:\n        lrate = 0.00003\n    elif epoch > 100:\n        lrate = 0.000003       \n    return lrate",
      "execution_count": null,
      "outputs": []
    },
    {
      "metadata": {
        "trusted": true,
        "_uuid": "4d27a8fdc9885d24c5c19406e517fa6c22f995b6"
      },
      "cell_type": "code",
      "source": "lr_scheduler=LearningRateScheduler(lr_schedule)",
      "execution_count": null,
      "outputs": []
    },
    {
      "metadata": {
        "trusted": true,
        "_uuid": "049c5ec0f178c387783fe7670d53d660a0a97de6"
      },
      "cell_type": "code",
      "source": "#we can reduce the LR by half if the accuracy is not improved after 3 epochs.using the following code\nreduceOnPlateau = ReduceLROnPlateau(monitor='val_acc', \n                                            patience=5, \n                                            verbose=1, \n                                            factor=0.5, \n                                            min_lr=0.00001, mode='auto')",
      "execution_count": null,
      "outputs": []
    },
    {
      "metadata": {
        "trusted": true,
        "_uuid": "61cd70a9fce0bb6ebc818844d601149ab1b43538"
      },
      "cell_type": "code",
      "source": "#Save the model after every decrease in val_loss \ncheckpoint = ModelCheckpoint(filepath='bestmodel.hdf5', verbose=0,monitor='val_loss',save_best_only=True,save_weights_only=False)",
      "execution_count": null,
      "outputs": []
    },
    {
      "metadata": {
        "trusted": true,
        "_uuid": "0c6b0cc26f1f6cd270210269b490f09801bff65d"
      },
      "cell_type": "code",
      "source": "#Stop training when a monitored quantity has stopped improving.\nearlyStopping=EarlyStopping(monitor='val_loss', min_delta=0, patience=3, verbose=0, mode='auto')",
      "execution_count": null,
      "outputs": []
    },
    {
      "metadata": {
        "trusted": true,
        "_uuid": "19a3f9fa9543e586c3023843467a1ac21a1836b2"
      },
      "cell_type": "code",
      "source": "callbacks_list = [lr_scheduler,checkpoint]",
      "execution_count": null,
      "outputs": []
    },
    {
      "metadata": {
        "trusted": true,
        "_uuid": "b5c588b3985edc2677068878ae68809800882ffd"
      },
      "cell_type": "code",
      "source": "model = Sequential()\nmodel.add(Dense(128, activation='relu', input_shape=(784,),kernel_regularizer=regularizers.l2(0.01)))\n#model.add(Dropout(0.2))\nmodel.add(Dense(128, activation='relu',kernel_regularizer=regularizers.l2(0.01)))\n#model.add(Dropout(0.2))\nmodel.add(Dense(64, activation='relu',kernel_regularizer=regularizers.l2(0.01)))\n#model.add(Dropout(0.2))\nmodel.add(Dense(10, activation='softmax'))",
      "execution_count": null,
      "outputs": []
    },
    {
      "metadata": {
        "trusted": true,
        "_uuid": "fe4ddaeb0be92857856d4a3b10fd24bf191cbf78"
      },
      "cell_type": "code",
      "source": "model.summary()",
      "execution_count": null,
      "outputs": []
    },
    {
      "metadata": {
        "trusted": true,
        "_uuid": "575df80a687255df9eb70d33284c062009c2a975"
      },
      "cell_type": "code",
      "source": "sgd = SGD(lr=0.000002, decay=1e-6, momentum=0.9)\nrmsprop = RMSprop(lr=0.001 ,decay=1e-4)\nadam= Adam(lr=0.0003 ,decay=1e-4)\n\nmodel.compile(optimizer=rmsprop,\n                loss='categorical_crossentropy',\n                metrics=['accuracy'])",
      "execution_count": null,
      "outputs": []
    },
    {
      "metadata": {
        "trusted": true,
        "_uuid": "58fb48298e4ba478799d487fcbf292bd57f21345"
      },
      "cell_type": "code",
      "source": "H1= model.fit(X_train, Y_train, batch_size = 256, epochs = 100,callbacks=callbacks_list, \n              validation_data = (X_val, Y_val), verbose = 1)",
      "execution_count": null,
      "outputs": []
    },
    {
      "metadata": {
        "trusted": true,
        "_uuid": "ec46efc13de6c1ae1d8b07983ba36fd09ea30906"
      },
      "cell_type": "code",
      "source": "plt.figure(0)\nplt.plot(H1.history['acc'],'r')\nplt.plot(H1.history['val_acc'],'g')\nplt.xticks(np.arange(0, 101, 5.0))\nplt.rcParams['figure.figsize'] = (14, 8)\nplt.xlabel(\"Num of Epochs\")\nplt.ylabel(\"Accuracy\")\nplt.title(\"Training Accuracy vs Validation Accuracy\")\nplt.legend(['train','validation'])",
      "execution_count": null,
      "outputs": []
    },
    {
      "metadata": {
        "trusted": true,
        "_uuid": "f9d774f2e94767b5f7afa0a3e3fb283e168c5fc6"
      },
      "cell_type": "code",
      "source": "plt.figure(1)\nplt.plot(H1.history['loss'],'r')\nplt.plot(H1.history['val_loss'],'g')\nplt.xticks(np.arange(0, 101, 5.0))\nplt.rcParams['figure.figsize'] = (14, 8)\nplt.xlabel(\"Num of Epochs\")\nplt.ylabel(\"Loss\")\nplt.title(\"Training Loss vs Validation Loss\")\nplt.legend(['train','validation'])",
      "execution_count": null,
      "outputs": []
    },
    {
      "metadata": {
        "trusted": true,
        "_uuid": "31bb0d5f08dc398d52a663ba088313b466da7b16"
      },
      "cell_type": "code",
      "source": "score = model.evaluate(X_val, Y_val, verbose=0)\nprint('Test loss:', score[0])\nprint('Test accuracy:', score[1])",
      "execution_count": null,
      "outputs": []
    },
    {
      "metadata": {
        "trusted": true,
        "_uuid": "7c3cfdbc80af59d53aee6ba3f06fef8aa1195072"
      },
      "cell_type": "code",
      "source": "from sklearn.metrics import classification_report\n\npreds = model.predict_classes(X_val)\ny_lable = [y.argmax() for y in Y_val]\nprint(classification_report(y_lable,preds))\npreds1 = model.predict_classes(X_train)\nytr_lable = [y.argmax() for y in Y_train]\nprint(classification_report(ytr_lable,preds1))",
      "execution_count": null,
      "outputs": []
    },
    {
      "metadata": {
        "trusted": true,
        "_uuid": "7ad632be819047a51fd9ccca31393528fc8c2723"
      },
      "cell_type": "code",
      "source": "# predict results\nTest_perdect = model.predict(X_test)\n\n# select the indix with the maximum probability\nTest_perdect = np.argmax(Test_perdect,axis = 1)\n\nTest_perdect = pd.Series(Test_perdect,name=\"Label\")\n\nsubmission1 = pd.concat([pd.Series(range(1,28001),name = \"ImageId\"),Test_perdect],axis = 1)\n\nsubmission1.to_csv(\"submission1.csv\",index=False)",
      "execution_count": null,
      "outputs": []
    },
    {
      "metadata": {
        "_uuid": "29e40f318b893e9e6b71a362ee37f5b9fc6192a1"
      },
      "cell_type": "markdown",
      "source": "## Using Dropout"
    },
    {
      "metadata": {
        "trusted": true,
        "_uuid": "411ade686bf80abcba687f78ba6b93a39b79b866"
      },
      "cell_type": "code",
      "source": "keras.backend.clear_session() ## clear the previous model. ",
      "execution_count": null,
      "outputs": []
    },
    {
      "metadata": {
        "trusted": true,
        "_uuid": "6758d1039d97757a6b60a798b47252750691c8d2"
      },
      "cell_type": "code",
      "source": "model2 = Sequential()\nmodel2.add(Dense(256, activation='relu', input_shape=(784,)))\nmodel2.add(Dropout(0.2))\nmodel2.add(Dense(128, activation='relu'))\nmodel2.add(Dropout(0.2))\nmodel2.add(Dense(64, activation='relu'))\nmodel2.add(Dropout(0.3))\nmodel2.add(Dense(10, activation='softmax'))",
      "execution_count": null,
      "outputs": []
    },
    {
      "metadata": {
        "trusted": true,
        "_uuid": "6d348e23835754208d3477cd4bde4a6c171ab9fb"
      },
      "cell_type": "code",
      "source": "model2.summary()",
      "execution_count": null,
      "outputs": []
    },
    {
      "metadata": {
        "trusted": true,
        "_uuid": "678db16eac48f21e31d045f117f66cc1a6525c37"
      },
      "cell_type": "code",
      "source": "#Save the model after every decrease in val_loss \ncheckpoint = ModelCheckpoint(filepath='bestmodel2.hdf5', verbose=0,monitor='val_loss',save_best_only=True,save_weights_only=False)",
      "execution_count": null,
      "outputs": []
    },
    {
      "metadata": {
        "trusted": true,
        "_uuid": "a01ae897bd9d13aadc1309d6937469a22e50b8a0"
      },
      "cell_type": "code",
      "source": "callbacks_list = [reduceOnPlateau,checkpoint]",
      "execution_count": null,
      "outputs": []
    },
    {
      "metadata": {
        "trusted": true,
        "_uuid": "699b89dd8e313747f38f4ee5dc378be6a80759d4"
      },
      "cell_type": "code",
      "source": "adam= Adam(lr=0.001 ,decay=1e-4)\nmodel2.compile(optimizer=adam,\n                loss='categorical_crossentropy',\n                metrics=['accuracy'])",
      "execution_count": null,
      "outputs": []
    },
    {
      "metadata": {
        "trusted": true,
        "_uuid": "e36b705c43bccb8dc4026844ec6eee510d7c1083"
      },
      "cell_type": "code",
      "source": "H2= model2.fit(X_train, Y_train, batch_size = 256, epochs = 100, callbacks=callbacks_list, \n              validation_data = (X_val, Y_val), verbose = 1)",
      "execution_count": null,
      "outputs": []
    },
    {
      "metadata": {
        "trusted": true,
        "_uuid": "bc2a241a7f02a9301c62a5d34a43ba928d983e97"
      },
      "cell_type": "code",
      "source": "plt.figure(0)\nplt.plot(H2.history['acc'],'r')\nplt.plot(H2.history['val_acc'],'g')\nplt.xticks(np.arange(0, 101, 5.0))\nplt.rcParams['figure.figsize'] = (14, 8)\nplt.xlabel(\"Num of Epochs\")\nplt.ylabel(\"Accuracy\")\nplt.title(\"Training Accuracy vs Validation Accuracy\")\nplt.legend(['train','validation'])",
      "execution_count": null,
      "outputs": []
    },
    {
      "metadata": {
        "trusted": true,
        "_uuid": "c57a360eb8b0389a203e0ca313b500a2959b2cdc"
      },
      "cell_type": "code",
      "source": "plt.figure(1)\nplt.plot(H1.history['loss'],'r')\nplt.plot(H1.history['val_loss'],'g')\nplt.xticks(np.arange(0, 101, 5.0))\nplt.rcParams['figure.figsize'] = (14, 8)\nplt.xlabel(\"Num of Epochs\")\nplt.ylabel(\"Loss\")\nplt.title(\"Training Loss vs Validation Loss\")\nplt.legend(['train','validation'])",
      "execution_count": null,
      "outputs": []
    },
    {
      "metadata": {
        "trusted": true,
        "_uuid": "191575e234c111fcf21c12d69a441e0f38b08ba6"
      },
      "cell_type": "code",
      "source": "score = model2.evaluate(X_val, Y_val, verbose=0)\nprint('Test loss:', score[0])\nprint('Test accuracy:', score[1])",
      "execution_count": null,
      "outputs": []
    },
    {
      "metadata": {
        "trusted": true,
        "_uuid": "9c7630359807065b8fe04028e823cfe61df9e331"
      },
      "cell_type": "code",
      "source": "preds = model2.predict_classes(X_val)\ny_lable = [y.argmax() for y in Y_val]\nprint(classification_report(y_lable,preds))\npreds1 = model2.predict_classes(X_train)\nytr_lable = [y.argmax() for y in Y_train]\nprint(classification_report(ytr_lable,preds1))",
      "execution_count": null,
      "outputs": []
    },
    {
      "metadata": {
        "trusted": true,
        "_uuid": "4b63416e0f4a110cac6b69a0ba58dcb2809083ec"
      },
      "cell_type": "code",
      "source": "# predict results\nTest_perd = model2.predict(X_test)\n\n# select the indix with the maximum probability\nTest_perd = np.argmax(Test_perd,axis = 1)\n\nTest_perd = pd.Series(Test_perd,name=\"Label\")\n\nsubmission2 = pd.concat([pd.Series(range(1,28001),name = \"ImageId\"),Test_perd],axis = 1)\n\nsubmission2.to_csv(\"submission2.csv\",index=False)\n\n",
      "execution_count": null,
      "outputs": []
    },
    {
      "metadata": {
        "trusted": true,
        "_uuid": "f3068e27359d6ee54109898fba48d6d5fdc17b88"
      },
      "cell_type": "code",
      "source": "",
      "execution_count": null,
      "outputs": []
    }
  ],
  "metadata": {
    "kernelspec": {
      "display_name": "Python 3",
      "language": "python",
      "name": "python3"
    },
    "language_info": {
      "name": "python",
      "version": "3.6.6",
      "mimetype": "text/x-python",
      "codemirror_mode": {
        "name": "ipython",
        "version": 3
      },
      "pygments_lexer": "ipython3",
      "nbconvert_exporter": "python",
      "file_extension": ".py"
    }
  },
  "nbformat": 4,
  "nbformat_minor": 1
}